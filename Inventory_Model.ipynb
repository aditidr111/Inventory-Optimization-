{
 "cells": [
  {
   "cell_type": "code",
   "execution_count": 1,
   "id": "778196e9",
   "metadata": {},
   "outputs": [],
   "source": [
    "import pandas as pd\n",
    "file_path = r\"C:\\Users\\Aditi\\Documents\\Supplychain_Project\\archive (2)\\supply_chain_data.xlsx\"\n",
    "df = pd.read_excel(file_path)"
   ]
  },
  {
   "cell_type": "code",
   "execution_count": 2,
   "id": "33203383",
   "metadata": {},
   "outputs": [
    {
     "name": "stdout",
     "output_type": "stream",
     "text": [
      "  Product type   SKU      Price  Availability  Number of products sold  \\\n",
      "0     haircare  SKU0  69.808006            55                      802   \n",
      "1     skincare  SKU1  14.843523            95                      736   \n",
      "2     haircare  SKU2  11.319683            34                        8   \n",
      "3     skincare  SKU3  61.163343            68                       83   \n",
      "4     skincare  SKU4   4.805496            26                      871   \n",
      "\n",
      "   Revenue generated Customer demographics  Stock levels  Lead times  \\\n",
      "0        8661.996792            Non-binary            58           7   \n",
      "1        7460.900065                Female            53          30   \n",
      "2        9577.749626               Unknown             1          10   \n",
      "3        7766.836426            Non-binary            23          13   \n",
      "4        2686.505152            Non-binary             5           3   \n",
      "\n",
      "   Order quantities  ...  Location Lead time  Production volumes  \\\n",
      "0                96  ...    Mumbai        29                 215   \n",
      "1                37  ...    Mumbai        23                 517   \n",
      "2                88  ...    Mumbai        12                 971   \n",
      "3                59  ...   Kolkata        24                 937   \n",
      "4                56  ...     Delhi         5                 414   \n",
      "\n",
      "  Manufacturing lead time Manufacturing costs  Inspection results  \\\n",
      "0                      29           46.279879             Pending   \n",
      "1                      30           33.616769             Pending   \n",
      "2                      27           30.688019             Pending   \n",
      "3                      18           35.624741                Fail   \n",
      "4                       3           92.065161                Fail   \n",
      "\n",
      "   Defect rates  Transportation modes   Routes       Costs  \n",
      "0      0.226410                  Road  Route B  187.752075  \n",
      "1      4.854068                  Road  Route B  503.065579  \n",
      "2      4.580593                   Air  Route C  141.920282  \n",
      "3      4.746649                  Rail  Route A  254.776159  \n",
      "4      3.145580                   Air  Route A  923.440632  \n",
      "\n",
      "[5 rows x 24 columns]\n"
     ]
    }
   ],
   "source": [
    "# Display first 5 rows\n",
    "print(df.head())"
   ]
  },
  {
   "cell_type": "code",
   "execution_count": 3,
   "id": "88075aef",
   "metadata": {},
   "outputs": [
    {
     "name": "stdout",
     "output_type": "stream",
     "text": [
      "Index(['Product type', 'SKU', 'Price', 'Availability',\n",
      "       'Number of products sold', 'Revenue generated', 'Customer demographics',\n",
      "       'Stock levels', 'Lead times', 'Order quantities', 'Shipping times',\n",
      "       'Shipping carriers', 'Shipping costs', 'Supplier name', 'Location',\n",
      "       'Lead time', 'Production volumes', 'Manufacturing lead time',\n",
      "       'Manufacturing costs', 'Inspection results', 'Defect rates',\n",
      "       'Transportation modes', 'Routes', 'Costs'],\n",
      "      dtype='object')\n"
     ]
    }
   ],
   "source": [
    "from pulp import LpMinimize, LpProblem, LpVariable, lpSum, LpStatus, value,  PULP_CBC_CMD\n",
    "# from pulp import PULP_CBC_CMD\n",
    "# Select required columns\n",
    "df_selected = df[[\n",
    "    'SKU', 'Stock levels', 'Order quantities', 'Manufacturing costs',\n",
    "    'Costs', 'Production volumes'\n",
    "]].copy()\n",
    "print(df.columns)"
   ]
  },
  {
   "cell_type": "code",
   "execution_count": 4,
   "id": "cceab2d8",
   "metadata": {},
   "outputs": [],
   "source": [
    "#Calculate cost components\n",
    "df_selected.loc[:, 'Holding Cost'] = 0.10 * df_selected['Manufacturing costs']\n",
    "df_selected.loc[:, 'Ordering Cost'] = df_selected['Manufacturing costs'] + df_selected['Costs']\n",
    "# Create LP Minimization problem\n",
    "model = LpProblem(name = \"Inventory_Optimization\", sense = LpMinimize)\n"
   ]
  },
  {
   "cell_type": "code",
   "execution_count": 5,
   "id": "7e0567fd",
   "metadata": {},
   "outputs": [],
   "source": [
    "#Define Decision Variables\n",
    "#Let x[i] be the number of units to stock for SKU i\n",
    "#Create LP variables for each SKU\n",
    "x = {row['SKU']: LpVariable(name = f\"x_{row['SKU']}\", lowBound =0, cat = 'Continuous') \n",
    "    for _, row in df_selected.iterrows()}"
   ]
  },
  {
   "cell_type": "code",
   "execution_count": 6,
   "id": "d25fc843",
   "metadata": {},
   "outputs": [],
   "source": [
    "#Minimize Total Cost = Holding + Ordering\n",
    "model +=lpSum(\n",
    "    df_selected.loc[i, 'Holding Cost'] * x[sku] +\n",
    "    df_selected.loc[i, 'Ordering Cost'] * (x[sku] - df_selected.loc[i, 'Stock levels'])\n",
    "    for i, sku in enumerate(df_selected['SKU'])\n",
    "\n",
    "), \"Total_Cost\""
   ]
  },
  {
   "cell_type": "code",
   "execution_count": 7,
   "id": "a5d12a70",
   "metadata": {},
   "outputs": [],
   "source": [
    "#Adding constraints\n",
    "#Constraint 1: Meet Demand\n",
    "for i, row in df_selected.iterrows():\n",
    "    model += x[row['SKU']] >= row['Order quantities'], f\"demand_constraint_{row['SKU']}\"\n",
    "#Constraint 2: Not Exceed Production Capacity\n",
    "for i, row in df_selected.iterrows():\n",
    "    model += x[row['SKU']] <= row['Production volumes'], f\"production_constraint_{row['SKU']}\"\n"
   ]
  },
  {
   "cell_type": "code",
   "execution_count": 8,
   "id": "c2fb050e",
   "metadata": {},
   "outputs": [
    {
     "name": "stdout",
     "output_type": "stream",
     "text": [
      "Solver Status: Optimal\n",
      "Total Cost Incurred: 225891.18\n"
     ]
    }
   ],
   "source": [
    "#Solve the model\n",
    "# status = model.solve()            \n",
    "model.solve(PULP_CBC_CMD(msg=False))\n",
    "print(f\"Solver Status: {LpStatus[model.status]}\")\n",
    "print(\"Total Cost Incurred:\", round(value(model.objective), 2))"
   ]
  },
  {
   "cell_type": "code",
   "execution_count": 9,
   "id": "c1748883",
   "metadata": {},
   "outputs": [
    {
     "name": "stdout",
     "output_type": "stream",
     "text": [
      "      SKU  Optimal Stock Level  Current Stock  Order Quantity  Cost Incurred\n",
      "0    SKU0                 96.0             58              96      225891.18\n",
      "1    SKU1                 37.0             53              37      225891.18\n",
      "2    SKU2                 88.0              1              88      225891.18\n",
      "3    SKU3                 59.0             23              59      225891.18\n",
      "4    SKU4                 56.0              5              56      225891.18\n",
      "5    SKU5                 66.0             90              66      225891.18\n",
      "6    SKU6                 58.0             11              58      225891.18\n",
      "7    SKU7                 11.0             93              11      225891.18\n",
      "8    SKU8                 15.0              5              15      225891.18\n",
      "9    SKU9                 83.0             14              83      225891.18\n",
      "10  SKU10                 80.0             51              80      225891.18\n",
      "11  SKU11                 60.0             46              60      225891.18\n",
      "12  SKU12                 85.0            100              85      225891.18\n",
      "13  SKU13                 48.0             80              48      225891.18\n",
      "14  SKU14                 78.0             54              78      225891.18\n",
      "15  SKU15                 69.0              9              69      225891.18\n",
      "16  SKU16                 78.0              2              78      225891.18\n",
      "17  SKU17                 85.0             45              85      225891.18\n",
      "18  SKU18                 46.0             10              46      225891.18\n",
      "19  SKU19                 94.0             48              94      225891.18\n"
     ]
    }
   ],
   "source": [
    "#Print optimal stock levels and cost\n",
    "results = []\n",
    "\n",
    "for sku in df_selected['SKU']:\n",
    "    optimal_stock = x[sku].value()\n",
    "    results.append({\n",
    "        'SKU': sku,\n",
    "        'Optimal Stock Level': round(optimal_stock, 2),\n",
    "        'Current Stock': df_selected[df_selected['SKU'] == sku]['Stock levels'].values[0],\n",
    "        'Order Quantity': df_selected[df_selected['SKU'] == sku]['Order quantities'].values[0],\n",
    "        'Cost Incurred': round(value(model.objective), 2)\n",
    "       \n",
    "    })\n",
    "\n",
    "results_df = pd.DataFrame(results)\n",
    "print(results_df.head(20))\n"
   ]
  },
  {
   "cell_type": "code",
   "execution_count": 10,
   "id": "347d1796",
   "metadata": {},
   "outputs": [],
   "source": [
    "import pandas as pd\n",
    "import matplotlib.pyplot as plt\n",
    "import seaborn as sns"
   ]
  },
  {
   "cell_type": "code",
   "execution_count": 11,
   "id": "34fb74cd",
   "metadata": {},
   "outputs": [
    {
     "name": "stdout",
     "output_type": "stream",
     "text": [
      "                Metric  Average Value\n",
      "0        Current Stock          47.77\n",
      "1  Optimal Stock Level          49.22\n",
      "2       Order Quantity          49.22\n"
     ]
    }
   ],
   "source": [
    "averages = {\n",
    "    'Current Stock': results_df['Current Stock'].mean(),\n",
    "    'Optimal Stock Level': results_df['Optimal Stock Level'].mean(),\n",
    "    'Order Quantity': results_df['Order Quantity'].mean()\n",
    "}\n",
    "\n",
    "# Convert to DataFrame for easy plotting\n",
    "avg_df = pd.DataFrame(list(averages.items()), columns=['Metric', 'Average Value'])\n",
    "print(avg_df)\n"
   ]
  },
  {
   "cell_type": "code",
   "execution_count": 12,
   "id": "c05fb44e",
   "metadata": {},
   "outputs": [
    {
     "data": {
      "image/png": "[encoded data removed]",
      "text/plain": [
       "<Figure size 800x500 with 1 Axes>"
      ]
     },
     "metadata": {},
     "output_type": "display_data"
    }
   ],
   "source": [
    "import matplotlib.pyplot as plt\n",
    "import seaborn as sns\n",
    "\n",
    "avg_current = results_df['Current Stock'].mean()\n",
    "avg_optimal = results_df['Optimal Stock Level'].mean()\n",
    "\n",
    "stock_types = ['Average Current Stock', 'Average Optimal Stock']\n",
    "stock_values = [avg_current, avg_optimal]\n",
    "colors = ['skyblue', 'seagreen']\n",
    "\n",
    "plt.figure(figsize=(8, 5))\n",
    "bars = plt.bar(stock_types, stock_values, color=colors)\n",
    "\n",
    "plt.legend(bars, ['Current Stock', 'Optimal Stock'], loc='upper right')\n",
    "\n",
    "for bar in bars:\n",
    "    height = bar.get_height()\n",
    "    plt.text(\n",
    "        bar.get_x() + bar.get_width() / 2,   \n",
    "        height + 1,                          \n",
    "        f'{height:.2f}',                     \n",
    "        ha='center', va='bottom', fontsize=10\n",
    "    )\n",
    "\n",
    "plt.title('Average Current vs Optimal Stock Level')\n",
    "plt.ylabel('Units')\n",
    "plt.xlabel('')\n",
    "plt.tight_layout()\n",
    "plt.show()\n"
   ]
  }
 ],
 "metadata": {
  "kernelspec": {
   "display_name": "Python 3",
   "language": "python",
   "name": "python3"
  },
  "language_info": {
   "codemirror_mode": {
    "name": "ipython",
    "version": 3
   },
   "file_extension": ".py",
   "mimetype": "text/x-python",
   "name": "python",
   "nbconvert_exporter": "python",
   "pygments_lexer": "ipython3",
   "version": "3.13.0"
  }
 },
 "nbformat": 4,
 "nbformat_minor": 5
}
